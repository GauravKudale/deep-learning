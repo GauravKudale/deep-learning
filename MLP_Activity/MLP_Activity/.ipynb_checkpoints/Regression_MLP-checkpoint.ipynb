{
 "cells": [
  {
   "cell_type": "code",
   "execution_count": 24,
   "metadata": {},
   "outputs": [],
   "source": [
    "from sklearn.datasets import fetch_california_housing\n",
    "from sklearn.model_selection import train_test_split\n",
    "from sklearn.preprocessing import StandardScaler\n",
    "import tensorflow as tf\n",
    "import pandas as pd\n",
    "import keras\n",
    "from keras.layers import Dense\n",
    "from keras .models import Sequential "
   ]
  },
  {
   "cell_type": "code",
   "execution_count": 25,
   "metadata": {},
   "outputs": [],
   "source": [
    "housing_datasets = fetch_california_housing()"
   ]
  },
  {
   "cell_type": "code",
   "execution_count": 38,
   "metadata": {},
   "outputs": [
    {
     "data": {
      "text/plain": [
       "{'data': array([[   8.3252    ,   41.        ,    6.98412698, ...,    2.55555556,\n",
       "           37.88      , -122.23      ],\n",
       "        [   8.3014    ,   21.        ,    6.23813708, ...,    2.10984183,\n",
       "           37.86      , -122.22      ],\n",
       "        [   7.2574    ,   52.        ,    8.28813559, ...,    2.80225989,\n",
       "           37.85      , -122.24      ],\n",
       "        ...,\n",
       "        [   1.7       ,   17.        ,    5.20554273, ...,    2.3256351 ,\n",
       "           39.43      , -121.22      ],\n",
       "        [   1.8672    ,   18.        ,    5.32951289, ...,    2.12320917,\n",
       "           39.43      , -121.32      ],\n",
       "        [   2.3886    ,   16.        ,    5.25471698, ...,    2.61698113,\n",
       "           39.37      , -121.24      ]]),\n",
       " 'target': array([4.526, 3.585, 3.521, ..., 0.923, 0.847, 0.894]),\n",
       " 'feature_names': ['MedInc',\n",
       "  'HouseAge',\n",
       "  'AveRooms',\n",
       "  'AveBedrms',\n",
       "  'Population',\n",
       "  'AveOccup',\n",
       "  'Latitude',\n",
       "  'Longitude'],\n",
       " 'DESCR': '.. _california_housing_dataset:\\n\\nCalifornia Housing dataset\\n--------------------------\\n\\n**Data Set Characteristics:**\\n\\n    :Number of Instances: 20640\\n\\n    :Number of Attributes: 8 numeric, predictive attributes and the target\\n\\n    :Attribute Information:\\n        - MedInc        median income in block\\n        - HouseAge      median house age in block\\n        - AveRooms      average number of rooms\\n        - AveBedrms     average number of bedrooms\\n        - Population    block population\\n        - AveOccup      average house occupancy\\n        - Latitude      house block latitude\\n        - Longitude     house block longitude\\n\\n    :Missing Attribute Values: None\\n\\nThis dataset was obtained from the StatLib repository.\\nhttp://lib.stat.cmu.edu/datasets/\\n\\nThe target variable is the median house value for California districts.\\n\\nThis dataset was derived from the 1990 U.S. census, using one row per census\\nblock group. A block group is the smallest geographical unit for which the U.S.\\nCensus Bureau publishes sample data (a block group typically has a population\\nof 600 to 3,000 people).\\n\\nIt can be downloaded/loaded using the\\n:func:`sklearn.datasets.fetch_california_housing` function.\\n\\n.. topic:: References\\n\\n    - Pace, R. Kelley and Ronald Barry, Sparse Spatial Autoregressions,\\n      Statistics and Probability Letters, 33 (1997) 291-297\\n'}"
      ]
     },
     "execution_count": 38,
     "metadata": {},
     "output_type": "execute_result"
    }
   ],
   "source": [
    "housing_datasets"
   ]
  },
  {
   "cell_type": "code",
   "execution_count": 27,
   "metadata": {},
   "outputs": [],
   "source": [
    "x_train_full, x_test, y_train_full, y_test = train_test_split(housing_datasets.data, housing_datasets.target)\n",
    "x_train, x_validation, y_train, y_validation = train_test_split(x_train_full, y_train_full)"
   ]
  },
  {
   "cell_type": "markdown",
   "metadata": {},
   "source": [
    "### Standard Scaling"
   ]
  },
  {
   "cell_type": "code",
   "execution_count": 28,
   "metadata": {},
   "outputs": [],
   "source": [
    "scaler = StandardScaler()\n",
    "x_train = scaler.fit_transform(x_train)\n",
    "x_validation = scaler.fit_transform(x_validation)\n",
    "x_test = scaler.fit_transform(x_test)"
   ]
  },
  {
   "cell_type": "markdown",
   "metadata": {},
   "source": [
    "### Create Sequential API model"
   ]
  },
  {
   "cell_type": "code",
   "execution_count": 32,
   "metadata": {},
   "outputs": [],
   "source": [
    "model = Sequential()\n",
    "model.add(Dense(30, input_shape=x_train.shape[1:], activation='relu'))\n",
    "model.add(Dense(1,activation=\"linear\"))"
   ]
  },
  {
   "cell_type": "code",
   "execution_count": 40,
   "metadata": {},
   "outputs": [
    {
     "name": "stdout",
     "output_type": "stream",
     "text": [
      "Model: \"sequential_3\"\n",
      "_________________________________________________________________\n",
      "Layer (type)                 Output Shape              Param #   \n",
      "=================================================================\n",
      "dense_3 (Dense)              (None, 30)                270       \n",
      "_________________________________________________________________\n",
      "dense_4 (Dense)              (None, 1)                 31        \n",
      "=================================================================\n",
      "Total params: 301\n",
      "Trainable params: 301\n",
      "Non-trainable params: 0\n",
      "_________________________________________________________________\n"
     ]
    }
   ],
   "source": [
    "model.summary()"
   ]
  },
  {
   "cell_type": "markdown",
   "metadata": {},
   "source": [
    "### Compile The Model"
   ]
  },
  {
   "cell_type": "code",
   "execution_count": 39,
   "metadata": {},
   "outputs": [],
   "source": [
    "model.compile(loss = tf.losses.mean_squared_error,\n",
    "             optimizer = 'sgd',metrics=['mean_absolute_percentage_error'])"
   ]
  },
  {
   "cell_type": "markdown",
   "metadata": {},
   "source": [
    "### Fit the Model"
   ]
  },
  {
   "cell_type": "code",
   "execution_count": 34,
   "metadata": {},
   "outputs": [
    {
     "name": "stdout",
     "output_type": "stream",
     "text": [
      "WARNING:tensorflow:From /Users/koushikkomanduri/anaconda3/lib/python3.7/site-packages/keras/backend/tensorflow_backend.py:422: The name tf.global_variables is deprecated. Please use tf.compat.v1.global_variables instead.\n",
      "\n",
      "Train on 11610 samples, validate on 3870 samples\n",
      "Epoch 1/20\n",
      "11610/11610 [==============================] - 1s 110us/step - loss: 1.0618 - val_loss: 0.6963\n",
      "Epoch 2/20\n",
      "11610/11610 [==============================] - 1s 53us/step - loss: 0.6101 - val_loss: 0.5135\n",
      "Epoch 3/20\n",
      "11610/11610 [==============================] - 1s 53us/step - loss: 0.4297 - val_loss: 0.4838\n",
      "Epoch 4/20\n",
      "11610/11610 [==============================] - 1s 53us/step - loss: 0.4099 - val_loss: 0.4732\n",
      "Epoch 5/20\n",
      "11610/11610 [==============================] - 1s 65us/step - loss: 0.3990 - val_loss: 0.4682\n",
      "Epoch 6/20\n",
      "11610/11610 [==============================] - 1s 94us/step - loss: 0.3910 - val_loss: 0.4623\n",
      "Epoch 7/20\n",
      "11610/11610 [==============================] - 1s 55us/step - loss: 0.3876 - val_loss: 0.4582\n",
      "Epoch 8/20\n",
      "11610/11610 [==============================] - 1s 64us/step - loss: 0.3818 - val_loss: 0.4544\n",
      "Epoch 9/20\n",
      "11610/11610 [==============================] - 1s 51us/step - loss: 0.3783 - val_loss: 0.4530\n",
      "Epoch 10/20\n",
      "11610/11610 [==============================] - 1s 52us/step - loss: 0.3784 - val_loss: 0.4548\n",
      "Epoch 11/20\n",
      "11610/11610 [==============================] - 1s 60us/step - loss: 0.3724 - val_loss: 0.4490\n",
      "Epoch 12/20\n",
      "11610/11610 [==============================] - 1s 51us/step - loss: 0.3682 - val_loss: 0.4506\n",
      "Epoch 13/20\n",
      "11610/11610 [==============================] - 1s 50us/step - loss: 0.3697 - val_loss: 0.4463\n",
      "Epoch 14/20\n",
      "11610/11610 [==============================] - 1s 54us/step - loss: 0.3654 - val_loss: 0.4486\n",
      "Epoch 15/20\n",
      "11610/11610 [==============================] - 1s 55us/step - loss: 0.3616 - val_loss: 0.4513\n",
      "Epoch 16/20\n",
      "11610/11610 [==============================] - 1s 51us/step - loss: 0.3643 - val_loss: 0.4746\n",
      "Epoch 17/20\n",
      "11610/11610 [==============================] - 1s 50us/step - loss: 0.3650 - val_loss: 0.4691\n",
      "Epoch 18/20\n",
      "11610/11610 [==============================] - 1s 56us/step - loss: 0.3566 - val_loss: 0.4390\n",
      "Epoch 19/20\n",
      "11610/11610 [==============================] - 1s 52us/step - loss: 0.3590 - val_loss: 0.4472\n",
      "Epoch 20/20\n",
      "11610/11610 [==============================] - 1s 57us/step - loss: 0.3566 - val_loss: 0.4472\n"
     ]
    }
   ],
   "source": [
    "history = model.fit(x_train, y_train, epochs=20,\n",
    "                   validation_data=(x_validation, y_validation))"
   ]
  },
  {
   "cell_type": "code",
   "execution_count": 35,
   "metadata": {},
   "outputs": [
    {
     "name": "stdout",
     "output_type": "stream",
     "text": [
      "5160/5160 [==============================] - 0s 37us/step\n"
     ]
    },
    {
     "data": {
      "text/plain": [
       "array([[1.6105925],\n",
       "       [1.9821293],\n",
       "       [3.9010954]], dtype=float32)"
      ]
     },
     "execution_count": 35,
     "metadata": {},
     "output_type": "execute_result"
    }
   ],
   "source": [
    "mean_squared_error_test = model.evaluate(x_test, y_test)\n",
    "x_new = x_test[:3] # New instance\n",
    "y_pred = model.predict(x_new)\n",
    "y_pred"
   ]
  },
  {
   "cell_type": "code",
   "execution_count": null,
   "metadata": {},
   "outputs": [],
   "source": []
  }
 ],
 "metadata": {
  "kernelspec": {
   "display_name": "Python 3",
   "language": "python",
   "name": "python3"
  },
  "language_info": {
   "codemirror_mode": {
    "name": "ipython",
    "version": 3
   },
   "file_extension": ".py",
   "mimetype": "text/x-python",
   "name": "python",
   "nbconvert_exporter": "python",
   "pygments_lexer": "ipython3",
   "version": "3.7.4"
  }
 },
 "nbformat": 4,
 "nbformat_minor": 2
}
